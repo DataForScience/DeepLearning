{
 "cells": [
  {
   "cell_type": "markdown",
   "metadata": {},
   "source": [
    "<div style=\"width: 100%; overflow: hidden;\">\n",
    "    <div style=\"width: 150px; float: left;\"> <img src=\"https://raw.githubusercontent.com/DataForScience/DeepLearning/master/data/D4Sci_logo_ball.png\" alt=\"Data For Science, Inc\" align=\"left\" border=\"0\"> </div>\n",
    "    <div style=\"float: left; margin-left: 10px;\"> \n",
    "        <h1>Deep Learning From Scratch</h1>\n",
    "        <h1>Simple Network</h1>\n",
    "        <p>Bruno Gonçalves<br/>\n",
    "        <a href=\"http://www.data4sci.com/\">www.data4sci.com</a><br/>\n",
    "        @bgoncalves, @data4sci</p></div>\n",
    "</div>"
   ]
  },
  {
   "cell_type": "code",
   "execution_count": 1,
   "metadata": {},
   "outputs": [],
   "source": [
    "import warnings\n",
    "warnings.filterwarnings('ignore')\n",
    "\n",
    "import numpy as np\n",
    "import pandas as pd\n",
    "import matplotlib.pyplot as plt\n",
    "import seaborn as sns\n",
    "\n",
    "import watermark\n",
    "\n",
    "%load_ext watermark\n",
    "%matplotlib inline"
   ]
  },
  {
   "cell_type": "code",
   "execution_count": 2,
   "metadata": {
    "scrolled": false
   },
   "outputs": [
    {
     "name": "stdout",
     "output_type": "stream",
     "text": [
      "Python implementation: CPython\n",
      "Python version       : 3.10.9\n",
      "IPython version      : 8.10.0\n",
      "\n",
      "Compiler    : Clang 14.0.6 \n",
      "OS          : Darwin\n",
      "Release     : 22.5.0\n",
      "Machine     : x86_64\n",
      "Processor   : i386\n",
      "CPU cores   : 16\n",
      "Architecture: 64bit\n",
      "\n",
      "Git hash: 561286dc20be22d88e11747647c43573e7e8c8dd\n",
      "\n",
      "seaborn   : 0.12.2\n",
      "numpy     : 1.23.5\n",
      "matplotlib: 3.7.0\n",
      "watermark : 2.4.2\n",
      "pandas    : 1.5.3\n",
      "\n"
     ]
    }
   ],
   "source": [
    "%watermark -i -n -v -m -g -iv"
   ]
  },
  {
   "cell_type": "code",
   "execution_count": 3,
   "metadata": {},
   "outputs": [],
   "source": [
    "plt.style.use('d4sci.mplstyle')"
   ]
  },
  {
   "cell_type": "markdown",
   "metadata": {},
   "source": [
    "## Load Dataset"
   ]
  },
  {
   "cell_type": "code",
   "execution_count": 4,
   "metadata": {},
   "outputs": [],
   "source": [
    "X_train = np.load('input/X_train.npy')\n",
    "X_test = np.load('input/X_test.npy')\n",
    "y_train = np.load('input/y_train.npy')\n",
    "y_test = np.load('input/y_test.npy')"
   ]
  },
  {
   "cell_type": "markdown",
   "metadata": {},
   "source": [
    "Preprocessing"
   ]
  },
  {
   "cell_type": "code",
   "execution_count": 5,
   "metadata": {},
   "outputs": [],
   "source": [
    "input_layer_size = X_train.shape[1]\n",
    "\n",
    "X_train /= 255.\n",
    "X_test /= 255."
   ]
  },
  {
   "cell_type": "code",
   "execution_count": 6,
   "metadata": {},
   "outputs": [
    {
     "data": {
      "text/plain": [
       "(5000, 784)"
      ]
     },
     "execution_count": 6,
     "metadata": {},
     "output_type": "execute_result"
    }
   ],
   "source": [
    "X_train.shape"
   ]
  },
  {
   "cell_type": "code",
   "execution_count": 7,
   "metadata": {},
   "outputs": [
    {
     "data": {
      "text/plain": [
       "(1000, 784)"
      ]
     },
     "execution_count": 7,
     "metadata": {},
     "output_type": "execute_result"
    }
   ],
   "source": [
    "X_test.shape"
   ]
  },
  {
   "cell_type": "markdown",
   "metadata": {},
   "source": [
    "## Initialize weights"
   ]
  },
  {
   "cell_type": "markdown",
   "metadata": {},
   "source": [
    "We define the initializatino function as we'll have to call it more than once"
   ]
  },
  {
   "cell_type": "code",
   "execution_count": 8,
   "metadata": {},
   "outputs": [],
   "source": [
    "def init_weights(L_in, L_out, epsilon = 0.12):\n",
    "    return 2*np.random.rand(L_out, L_in+1)*epsilon - epsilon"
   ]
  },
  {
   "cell_type": "markdown",
   "metadata": {},
   "source": [
    "Set the layer sizes we'll be using"
   ]
  },
  {
   "cell_type": "code",
   "execution_count": 9,
   "metadata": {},
   "outputs": [],
   "source": [
    "hidden_layer_size = 50\n",
    "num_labels = 10"
   ]
  },
  {
   "cell_type": "markdown",
   "metadata": {},
   "source": [
    "Initialize the weights"
   ]
  },
  {
   "cell_type": "code",
   "execution_count": 10,
   "metadata": {},
   "outputs": [],
   "source": [
    "Theta1 = init_weights(input_layer_size, hidden_layer_size)\n",
    "Theta2 = init_weights(hidden_layer_size, num_labels)"
   ]
  },
  {
   "cell_type": "markdown",
   "metadata": {},
   "source": [
    "## Utility functions"
   ]
  },
  {
   "cell_type": "markdown",
   "metadata": {},
   "source": [
    "One-hot encoding to define the labels"
   ]
  },
  {
   "cell_type": "code",
   "execution_count": 11,
   "metadata": {},
   "outputs": [],
   "source": [
    "def one_hot(K, pos):\n",
    "    y0 = np.zeros(K)\n",
    "    y0[pos] = 1\n",
    "\n",
    "    return y0"
   ]
  },
  {
   "cell_type": "code",
   "execution_count": 12,
   "metadata": {},
   "outputs": [
    {
     "data": {
      "text/plain": [
       "array([5, 0, 4, ..., 2, 1, 2], dtype=uint8)"
      ]
     },
     "execution_count": 12,
     "metadata": {},
     "output_type": "execute_result"
    }
   ],
   "source": [
    "y_train"
   ]
  },
  {
   "cell_type": "code",
   "execution_count": 13,
   "metadata": {},
   "outputs": [
    {
     "data": {
      "text/plain": [
       "array([0., 0., 0., 0., 0., 1., 0., 0., 0., 0.])"
      ]
     },
     "execution_count": 13,
     "metadata": {},
     "output_type": "execute_result"
    }
   ],
   "source": [
    "one_hot(10, 5)"
   ]
  },
  {
   "cell_type": "markdown",
   "metadata": {},
   "source": [
    "Activation function, just as before"
   ]
  },
  {
   "cell_type": "code",
   "execution_count": 14,
   "metadata": {},
   "outputs": [],
   "source": [
    "def sigmoid(z):\n",
    "    return 1./(1+np.exp(-z))\n",
    "\n",
    "def sigmoidGradient(z):\n",
    "    h = sigmoid(z)\n",
    "    return h*(1-h)\n",
    "\n",
    "def accuracy(y_, y):\n",
    "    return np.mean((y_ == y.flatten()))*100."
   ]
  },
  {
   "cell_type": "markdown",
   "metadata": {},
   "source": [
    "## Forward Propagation and Prediction"
   ]
  },
  {
   "cell_type": "markdown",
   "metadata": {},
   "source": [
    "Same functions defined above"
   ]
  },
  {
   "cell_type": "code",
   "execution_count": 15,
   "metadata": {},
   "outputs": [],
   "source": [
    "def forward(Theta, X, active):\n",
    "    N = X.shape[0]\n",
    "\n",
    "    # Add the bias column\n",
    "    X_ = np.concatenate((np.ones((N, 1)), X), 1)\n",
    "\n",
    "    # Multiply by the weights\n",
    "    z = np.dot(X_, Theta.T)\n",
    "\n",
    "    # Apply the activation function\n",
    "    a = active(z)\n",
    "\n",
    "    return a\n",
    "\n",
    "def predict(Theta1, Theta2, X):\n",
    "    h1 = forward(Theta1, X, sigmoid)\n",
    "    h2 = forward(Theta2, h1, sigmoid)\n",
    "\n",
    "    return np.argmax(h2, 1)"
   ]
  },
  {
   "cell_type": "markdown",
   "metadata": {},
   "source": [
    "## Back propagation"
   ]
  },
  {
   "cell_type": "code",
   "execution_count": 16,
   "metadata": {},
   "outputs": [],
   "source": [
    "def backprop(Theta1, Theta2, X, y):\n",
    "    N = X.shape[0]\n",
    "    K = Theta2.shape[0]\n",
    "\n",
    "    J = 0\n",
    "\n",
    "    Delta2 = np.zeros(Theta2.shape)\n",
    "    Delta1 = np.zeros(Theta1.shape)\n",
    "\n",
    "    for i in range(N):\n",
    "        # Forward propagation, saving intermediate results\n",
    "        a1 = np.concatenate(([1], X[i]))  # Input layer\n",
    "\n",
    "        z2 = np.dot(Theta1, a1)\n",
    "        h2 = sigmoid(z2)\n",
    "        a2 = np.concatenate(([1], h2))  # Hidden Layer\n",
    "\n",
    "        z3 = np.dot(Theta2, a2)\n",
    "        h3 = sigmoid(z3)  # Output layer\n",
    "        a3 = h3\n",
    "        \n",
    "        y0 = one_hot(K, y[i])\n",
    "\n",
    "        # Cross entropy\n",
    "        J -= np.dot(y0.T, np.log(a3))+np.dot((1-y0).T, np.log(1-a3))\n",
    "\n",
    "        # Calculate the weight deltas\n",
    "        delta_3 = a3-y0\n",
    "        delta_2 = np.dot(Theta2.T, delta_3)[1:]*sigmoidGradient(z2)\n",
    "\n",
    "        Delta2 += np.outer(delta_3, a2)\n",
    "        Delta1 += np.outer(delta_2, a1)\n",
    "\n",
    "    J /= N\n",
    "\n",
    "    Theta1_grad = Delta1/N\n",
    "    Theta2_grad = Delta2/N\n",
    "\n",
    "    return [J, Theta1_grad, Theta2_grad]"
   ]
  },
  {
   "cell_type": "markdown",
   "metadata": {},
   "source": [
    "## Training procedure\n",
    "The basic idea is the same as for the linear and logistic regression cases"
   ]
  },
  {
   "cell_type": "code",
   "execution_count": null,
   "metadata": {
    "scrolled": false
   },
   "outputs": [
    {
     "name": "stdout",
     "output_type": "stream",
     "text": [
      "10 3.1090196544523687 3.1018220073714033 48.88 44.6\n",
      "20 2.8741145492471056 2.876521440556346 62.08 57.49999999999999\n",
      "30 2.539056788345286 2.561443804360274 67.64 63.7\n",
      "40 2.2093394390061314 2.2572762014658316 71.54 67.4\n",
      "50 1.9527249680260363 2.0204692818613488 75.28 70.1\n",
      "60 1.7594155691911362 1.8406633154534953 78.16 73.1\n",
      "70 1.6080174909333818 1.6991135555175656 80.38 75.2\n",
      "80 1.4850521620413033 1.583973873145704 82.08 76.8\n",
      "90 1.382779936658271 1.4883399536400865 83.6 78.60000000000001\n",
      "100 1.2962994927375566 1.4077672297307642 84.84 80.2\n",
      "110 1.2221671385005461 1.3390665159039132 85.54 81.6\n",
      "120 1.1578390376067842 1.2798245073616559 86.16 82.89999999999999\n",
      "130 1.1014136892608475 1.228195922025151 86.86 83.5\n",
      "140 1.0514685753598134 1.1827763622999572 87.4 84.39999999999999\n",
      "150 1.0069342408658237 1.1425005404634219 88.18 85.1\n",
      "160 0.9669951047060975 1.1065564275225772 88.52 85.2\n",
      "170 0.9310145066014595 1.0743156699947887 88.84 85.7\n",
      "180 0.8984808786443338 1.0452803989688113 89.3 86.2\n",
      "190 0.8689708904664807 1.0190448960973955 89.56 86.3\n",
      "200 0.8421252592132078 0.9952694547164662 89.82 87.0\n",
      "210 0.8176333841251734 0.9736633866593202 89.92 87.2\n"
     ]
    }
   ],
   "source": [
    "step = 0\n",
    "tol = 1e-3 # Minimum different in error between two consecutive steps\n",
    "J_old = 1/tol\n",
    "diff = 1\n",
    "\n",
    "acc_train = []\n",
    "acc_test = []\n",
    "J_val = []\n",
    "steps = []\n",
    "alpha = 0.5\n",
    "\n",
    "while diff > tol:\n",
    "    J_train, Theta1_grad, Theta2_grad = backprop(Theta1, Theta2, X_train, y_train)\n",
    "\n",
    "    diff = abs(J_old-J_train)\n",
    "    J_old = J_train\n",
    "    J_val.append(J_train)\n",
    "    \n",
    "    step += 1\n",
    "\n",
    "    Theta1 -= alpha*Theta1_grad\n",
    "    Theta2 -= alpha*Theta2_grad\n",
    "\n",
    "    \n",
    "    if step % 10 == 0:\n",
    "        pred_train = predict(Theta1, Theta2, X_train)\n",
    "        pred_test = predict(Theta1, Theta2, X_test)\n",
    "\n",
    "        J_test, T1_grad, T2_grad = backprop(Theta1, Theta2, X_test, y_test)\n",
    "        \n",
    "        acc_train.append(accuracy(pred_train, y_train))\n",
    "        acc_test.append(accuracy(pred_test, y_test))\n",
    "        steps.append(step)\n",
    "        \n",
    "        print(step, J_train, J_test, acc_train[-1], acc_test[-1])\n",
    "\n",
    "    \n",
    "print(step, J_train, J_test, acc_train[-1], acc_test[-1])\n",
    "print('DONE')"
   ]
  },
  {
   "cell_type": "markdown",
   "metadata": {},
   "source": [
    "## Accuracy during training"
   ]
  },
  {
   "cell_type": "code",
   "execution_count": null,
   "metadata": {},
   "outputs": [],
   "source": [
    "plt.plot(np.arange(1, len(J_val)+1), J_val)\n",
    "plt.xlabel(\"Iterations\")\n",
    "plt.ylabel(\"Cost function\")"
   ]
  },
  {
   "cell_type": "code",
   "execution_count": null,
   "metadata": {},
   "outputs": [],
   "source": [
    "plt.plot(steps, acc_train, label='Training dataset')\n",
    "plt.plot(steps, acc_test, label='Testing dataset')\n",
    "plt.xlabel(\"iterations\")\n",
    "plt.ylabel(\"Accuracy (%)\")\n",
    "plt.legend()"
   ]
  },
  {
   "cell_type": "markdown",
   "metadata": {},
   "source": [
    "## Save the trained model"
   ]
  },
  {
   "cell_type": "code",
   "execution_count": null,
   "metadata": {},
   "outputs": [],
   "source": [
    "np.save('Theta1_short.npy', Theta1)\n",
    "np.save('Theta2_short.npy', Theta2)"
   ]
  },
  {
   "cell_type": "markdown",
   "metadata": {},
   "source": [
    "<div style=\"width: 100%; overflow: hidden;\">\n",
    "     <img src=\"https://raw.githubusercontent.com/DataForScience/DeepLearning/master/data/D4Sci_logo_full.png\" alt=\"Data For Science, Inc\" align=\"center\" border=\"0\" width=300px> \n",
    "</div>"
   ]
  }
 ],
 "metadata": {
  "kernelspec": {
   "display_name": "Python 3 (ipykernel)",
   "language": "python",
   "name": "python3"
  },
  "language_info": {
   "codemirror_mode": {
    "name": "ipython",
    "version": 3
   },
   "file_extension": ".py",
   "mimetype": "text/x-python",
   "name": "python",
   "nbconvert_exporter": "python",
   "pygments_lexer": "ipython3",
   "version": "3.10.9"
  },
  "toc": {
   "base_numbering": 1,
   "nav_menu": {},
   "number_sections": true,
   "sideBar": true,
   "skip_h1_title": true,
   "title_cell": "Table of Contents",
   "title_sidebar": "Contents",
   "toc_cell": false,
   "toc_position": {},
   "toc_section_display": true,
   "toc_window_display": false
  },
  "varInspector": {
   "cols": {
    "lenName": 16,
    "lenType": 16,
    "lenVar": 40
   },
   "kernels_config": {
    "python": {
     "delete_cmd_postfix": "",
     "delete_cmd_prefix": "del ",
     "library": "var_list.py",
     "varRefreshCmd": "print(var_dic_list())"
    },
    "r": {
     "delete_cmd_postfix": ") ",
     "delete_cmd_prefix": "rm(",
     "library": "var_list.r",
     "varRefreshCmd": "cat(var_dic_list()) "
    }
   },
   "types_to_exclude": [
    "module",
    "function",
    "builtin_function_or_method",
    "instance",
    "_Feature"
   ],
   "window_display": false
  }
 },
 "nbformat": 4,
 "nbformat_minor": 2
}
